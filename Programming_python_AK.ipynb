{
 "cells": [
  {
   "cell_type": "markdown",
   "id": "cdd7eecd",
   "metadata": {},
   "source": [
    "## Python Introduction\n",
    "\n",
    "* Python is a widely used High-level programming language or general purpose programming, created by Guido van Rossum and first released in 1991. \n",
    "* Python feautres a dynamic type system and automatic memory management and supports multiple programming paradigms, including object orieneted programming, imperative, functional and procedural styles. \n",
    "* It has a large and comprehensive standard library"
   ]
  },
  {
   "cell_type": "code",
   "execution_count": 1,
   "id": "9cf99ab6",
   "metadata": {},
   "outputs": [
    {
     "name": "stdout",
     "output_type": "stream",
     "text": [
      "hello world\n"
     ]
    }
   ],
   "source": [
    "print(\"hello world\")"
   ]
  },
  {
   "cell_type": "markdown",
   "id": "6515103f",
   "metadata": {},
   "source": [
    "### Creating variables and assigning values\n",
    "\n",
    "variablename=value\n",
    "    \n",
    "Python uses = to assign value to variables, there is no need to declare the variable in advance, or assign a data type of it. Assigning a value to a variable itself declares and initializes the variable with that value. There is no way to declare a variable without assigning it an initial value"
   ]
  },
  {
   "cell_type": "code",
   "execution_count": 2,
   "id": "927a68b0",
   "metadata": {},
   "outputs": [
    {
     "name": "stdout",
     "output_type": "stream",
     "text": [
      "2\n"
     ]
    }
   ],
   "source": [
    "# Integer\n",
    "a=2\n",
    "print(a)"
   ]
  },
  {
   "cell_type": "code",
   "execution_count": 3,
   "id": "888fc2eb",
   "metadata": {},
   "outputs": [
    {
     "name": "stdout",
     "output_type": "stream",
     "text": [
      "3.14\n"
     ]
    }
   ],
   "source": [
    "# floating point\n",
    "pi=3.14\n",
    "print(pi)"
   ]
  },
  {
   "cell_type": "code",
   "execution_count": 4,
   "id": "abf0e73f",
   "metadata": {},
   "outputs": [
    {
     "name": "stdout",
     "output_type": "stream",
     "text": [
      "shreyas\n"
     ]
    }
   ],
   "source": [
    "#string\n",
    "name=\"shreyas\"\n",
    "print(name)"
   ]
  },
  {
   "cell_type": "code",
   "execution_count": 5,
   "id": "49d62f53",
   "metadata": {},
   "outputs": [
    {
     "name": "stdout",
     "output_type": "stream",
     "text": [
      "True\n"
     ]
    }
   ],
   "source": [
    "#boolean\n",
    "a=True\n",
    "print(a)"
   ]
  },
  {
   "cell_type": "markdown",
   "id": "55b31984",
   "metadata": {},
   "source": [
    "Variable assignment works from left to right. PFB code which gives the error"
   ]
  },
  {
   "cell_type": "markdown",
   "id": "ac364302",
   "metadata": {},
   "source": [
    "### Data Types"
   ]
  },
  {
   "cell_type": "code",
   "execution_count": 6,
   "id": "e36d8ed9",
   "metadata": {},
   "outputs": [
    {
     "name": "stdout",
     "output_type": "stream",
     "text": [
      "2 25 100\n"
     ]
    }
   ],
   "source": [
    "#Int: Integer\n",
    "a = 2\n",
    "b = 25\n",
    "c = 100 \n",
    "print(a,b,c)"
   ]
  },
  {
   "cell_type": "code",
   "execution_count": 7,
   "id": "61990455",
   "metadata": {},
   "outputs": [
    {
     "name": "stdout",
     "output_type": "stream",
     "text": [
      "2.0 500.0 12456879790.0\n"
     ]
    }
   ],
   "source": [
    "#Float: Floating Point\n",
    "d = 2.0\n",
    "e = 500.e0\n",
    "f = 1245687979.e1 \n",
    "print(d,e,f)"
   ]
  },
  {
   "cell_type": "code",
   "execution_count": 8,
   "id": "54f57943",
   "metadata": {},
   "outputs": [
    {
     "name": "stdout",
     "output_type": "stream",
     "text": [
      "(2+10j) (100+100j)\n"
     ]
    }
   ],
   "source": [
    "#Complex:\n",
    "g = 2 + 10j\n",
    "h = 100 + 100j \n",
    "print(g,h)"
   ]
  },
  {
   "cell_type": "code",
   "execution_count": 9,
   "id": "e4a7e443",
   "metadata": {},
   "outputs": [
    {
     "name": "stdout",
     "output_type": "stream",
     "text": [
      "shreyas sp shreyas sp\n"
     ]
    }
   ],
   "source": [
    "#Strings\n",
    "i = \"shreyas\"\n",
    "j = \"sp\"\n",
    "k = \"shreyas sp\"\n",
    "print(i,j,k)"
   ]
  },
  {
   "cell_type": "markdown",
   "id": "024e0d17",
   "metadata": {},
   "source": [
    "### Sequences and Collections\n",
    "\n"
   ]
  },
  {
   "cell_type": "code",
   "execution_count": 10,
   "id": "9581cd67",
   "metadata": {},
   "outputs": [
    {
     "name": "stdout",
     "output_type": "stream",
     "text": [
      "(1, 2, 3) ('a', 1, (1, 2))\n"
     ]
    }
   ],
   "source": [
    "#Tuple: An ordered collection of n values of any type (n>= 0)\n",
    "\n",
    "t1=(1,2,3)\n",
    "t2=('a',1,(1,2))\n",
    "print(t1,t2)"
   ]
  },
  {
   "cell_type": "code",
   "execution_count": 11,
   "id": "aed3caa8",
   "metadata": {},
   "outputs": [
    {
     "name": "stdout",
     "output_type": "stream",
     "text": [
      "[1, 2, 3] ['a', 1, [1, 2, 3], [3, 2, 'd']]\n"
     ]
    }
   ],
   "source": [
    "#list:an ordered collection of n values (n>=0)\n",
    "\n",
    "l1=[1,2,3]\n",
    "l2=['a',1,[1,2,3],[3,2,'d']]\n",
    "print(l1,l2)"
   ]
  },
  {
   "cell_type": "code",
   "execution_count": 12,
   "id": "2debcc68",
   "metadata": {},
   "outputs": [
    {
     "name": "stdout",
     "output_type": "stream",
     "text": [
      "{1, 2, 'a'}\n"
     ]
    }
   ],
   "source": [
    "#set: an unordered collection of unique values. Items must be hashable.\n",
    "s1={1,2,'a'}\n",
    "print(s1)"
   ]
  },
  {
   "cell_type": "code",
   "execution_count": 13,
   "id": "639ab514",
   "metadata": {},
   "outputs": [
    {
     "name": "stdout",
     "output_type": "stream",
     "text": [
      "{1: 'one', 2: 'two'} {'a': 'apple', 'b': 'book'}\n"
     ]
    }
   ],
   "source": [
    "#Dict: an unordered collection of unique key value pairs, keys must be hashable\n",
    "\n",
    "d1={1:'one',2:'two'}\n",
    "d2={'a':'apple','b':'book'}\n",
    "print(d1,d2)"
   ]
  }
 ],
 "metadata": {
  "kernelspec": {
   "display_name": "Python 3 (ipykernel)",
   "language": "python",
   "name": "python3"
  },
  "language_info": {
   "codemirror_mode": {
    "name": "ipython",
    "version": 3
   },
   "file_extension": ".py",
   "mimetype": "text/x-python",
   "name": "python",
   "nbconvert_exporter": "python",
   "pygments_lexer": "ipython3",
   "version": "3.9.7"
  }
 },
 "nbformat": 4,
 "nbformat_minor": 5
}
